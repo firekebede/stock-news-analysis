{
 "cells": [
  {
   "cell_type": "code",
   "execution_count": null,
   "id": "571c0a50",
   "metadata": {},
   "outputs": [],
   "source": [
    "\n",
    "import pandas as pd\n",
    "import talib\n",
    "import matplotlib.pyplot as plt\n",
    "\n",
    "file_path = \"AAPL_historical_data.csv\"\n",
    "df = pd.read_csv(file_path, parse_dates=[\"Date\"])\n",
    "df.set_index(\"Date\", inplace=True)\n",
    "df = df[['Open', 'High', 'Low', 'Close', 'Volume']].dropna()\n"
   ]
  },
  {
   "cell_type": "code",
   "execution_count": null,
   "id": "be5bd5fd",
   "metadata": {},
   "outputs": [],
   "source": [
    "\n",
    "df['SMA_20'] = talib.SMA(df['Close'], timeperiod=20)\n",
    "df['RSI'] = talib.RSI(df['Close'], timeperiod=14)\n",
    "macd, macdsignal, _ = talib.MACD(df['Close'], fastperiod=12, slowperiod=26, signalperiod=9)\n",
    "df['MACD'] = macd\n",
    "df['MACD_Signal'] = macdsignal\n"
   ]
  },
  {
   "cell_type": "code",
   "execution_count": null,
   "id": "52298a1d",
   "metadata": {},
   "outputs": [],
   "source": [
    "\n",
    "plt.figure(figsize=(14, 6))\n",
    "plt.plot(df['Close'], label='Close Price')\n",
    "plt.plot(df['SMA_20'], label='20-day SMA')\n",
    "plt.title('AAPL Close Price & 20-day SMA')\n",
    "plt.legend()\n",
    "plt.grid(True)\n",
    "plt.tight_layout()\n",
    "plt.show()\n"
   ]
  }
 ],
 "metadata": {},
 "nbformat": 4,
 "nbformat_minor": 5
}
