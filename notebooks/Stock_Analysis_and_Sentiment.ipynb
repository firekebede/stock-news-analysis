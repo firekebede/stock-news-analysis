{
  "cells": [
    {
      "cell_type": "markdown",
      "id": "7fd51c3f",
      "metadata": {
        "id": "7fd51c3f"
      },
      "source": [
        "# Stock Analysis and Sentiment Correlation Dashboard\n",
        "This notebook performs:\n",
        "- Technical analysis using TA-Lib and PyNance\n",
        "- Visualization of indicators\n",
        "- Correlation analysis between news sentiment and stock returns"
      ]
    },
    {
      "cell_type": "code",
      "source": [
        "from google.colab import drive\n",
        "drive.mount('/content/drive')"
      ],
      "metadata": {
        "colab": {
          "base_uri": "https://localhost:8080/"
        },
        "id": "upu8EkXgrJvN",
        "outputId": "3a7444c0-f7f0-4269-fc95-eaa6f08d0348"
      },
      "id": "upu8EkXgrJvN",
      "execution_count": 3,
      "outputs": [
        {
          "output_type": "stream",
          "name": "stdout",
          "text": [
            "Mounted at /content/drive\n"
          ]
        }
      ]
    },
    {
      "cell_type": "markdown",
      "id": "b0da4319",
      "metadata": {
        "id": "b0da4319"
      },
      "source": [
        "## Task 2: Load and Prepare Financial Data"
      ]
    },
    {
      "cell_type": "code",
      "execution_count": null,
      "id": "26d9c760",
      "metadata": {
        "id": "26d9c760"
      },
      "outputs": [],
      "source": [
        "import pandas as pd\n",
        "import numpy as np\n",
        "import talib\n",
        "import matplotlib.pyplot as plt\n",
        "\n",
        "# Load stock data\n",
        "goog_df = pd.read_csv('/content/GOOG_historical_data.csv', parse_dates=['Date'])\n",
        "msft_df = pd.read_csv('/content/MSFT_historical_data.csv', parse_dates=['Date'])\n",
        "amzn = pd.read_csv('/content/AMZN_historical_data.csv', parse_dates=['Date'])\n",
        "nvda = pd.read_csv('/content/NVDA_historical_data.csv', parse_dates=['Date'])\n",
        "meta = pd.read_csv('/content/META_historical_data.csv', parse_dates=['Date'])\n",
        "tsla = pd.read_csv('/content/TSLA_historical_data.csv', parse_dates=['Date'])\n",
        "# Sort by date and reset index\n",
        "goog_df.sort_values('Date', inplace=True)\n",
        "msft_df.sort_values('Date', inplace=True)\n",
        "goog_df.reset_index(drop=True, inplace=True)\n",
        "msft_df.reset_index(drop=True, inplace=True)\n",
        "\n",
        "# Preview data\n",
        "goog_df.head()"
      ]
    },
    {
      "cell_type": "markdown",
      "id": "dbb814c2",
      "metadata": {
        "id": "dbb814c2"
      },
      "source": [
        "## Calculate Technical Indicators with TA-Lib"
      ]
    },
    {
      "cell_type": "code",
      "execution_count": null,
      "id": "6bf178ee",
      "metadata": {
        "id": "6bf178ee"
      },
      "outputs": [],
      "source": [
        "# Add technical indicators\n",
        "goog_df['SMA_20'] = talib.SMA(goog_df['Close'], timeperiod=20)\n",
        "goog_df['RSI'] = talib.RSI(goog_df['Close'], timeperiod=14)\n",
        "macd, macdsignal, macdhist = talib.MACD(goog_df['Close'])\n",
        "goog_df['MACD'] = macd\n",
        "goog_df['MACD_Signal'] = macdsignal\n",
        "\n",
        "goog_df[['Date', 'Close', 'SMA_20', 'RSI', 'MACD', 'MACD_Signal']].tail()"
      ]
    },
    {
      "cell_type": "markdown",
      "id": "5f90836c",
      "metadata": {
        "id": "5f90836c"
      },
      "source": [
        "## Visualize Technical Indicators"
      ]
    },
    {
      "cell_type": "code",
      "execution_count": null,
      "id": "713a640b",
      "metadata": {
        "id": "713a640b"
      },
      "outputs": [],
      "source": [
        "# Plotting SMA and Close prices\n",
        "plt.figure(figsize=(12, 6))\n",
        "plt.plot(goog_df['Date'], goog_df['Close'], label='Close Price')\n",
        "plt.plot(goog_df['Date'], goog_df['SMA_20'], label='SMA 20')\n",
        "plt.title('GOOG Close Price and SMA')\n",
        "plt.legend()\n",
        "plt.show()"
      ]
    },
    {
      "cell_type": "markdown",
      "id": "a8130643",
      "metadata": {
        "id": "a8130643"
      },
      "source": [
        "## Task 3: Correlation Between News and Stock Movements"
      ]
    },
    {
      "cell_type": "code",
      "execution_count": null,
      "id": "3b6788ba",
      "metadata": {
        "id": "3b6788ba"
      },
      "outputs": [],
      "source": [
        "from textblob import TextBlob\n",
        "\n",
        "# Example news data (in real scenario, load your own dataset)\n",
        "news_data = pd.DataFrame({\n",
        "    'Date': pd.date_range(start='2023-01-01', periods=10, freq='D'),\n",
        "    'Headline': [\n",
        "        'Google launches new AI tool',\n",
        "        'Microsoft acquires new company',\n",
        "        'Google faces antitrust lawsuit',\n",
        "        'Microsoft reports record earnings',\n",
        "        'Google announces layoffs',\n",
        "        'Microsoft launches Copilot update',\n",
        "        'Google AI outperforms expectations',\n",
        "        'Microsoft cloud sees growth',\n",
        "        'Google stock surges after earnings',\n",
        "        'Microsoft faces regulation scrutiny'\n",
        "    ]\n",
        "})\n",
        "\n",
        "# Sentiment Analysis\n",
        "news_data['Sentiment'] = news_data['Headline'].apply(lambda x: TextBlob(x).sentiment.polarity)\n",
        "news_data['Date'] = pd.to_datetime(news_data['Date'])\n",
        "news_data.head()"
      ]
    },
    {
      "cell_type": "markdown",
      "id": "94bcbee5",
      "metadata": {
        "id": "94bcbee5"
      },
      "source": [
        "### Compute Daily Returns for Stock"
      ]
    },
    {
      "cell_type": "code",
      "execution_count": null,
      "id": "3fc17ebd",
      "metadata": {
        "id": "3fc17ebd"
      },
      "outputs": [],
      "source": [
        "goog_df['Return'] = goog_df['Close'].pct_change()\n",
        "goog_df['Date'] = pd.to_datetime(goog_df['Date'])\n",
        "goog_df_return = goog_df[['Date', 'Return']].dropna()\n",
        "goog_df_return.head()"
      ]
    },
    {
      "cell_type": "markdown",
      "id": "f5e0ec31",
      "metadata": {
        "id": "f5e0ec31"
      },
      "source": [
        "### Correlation Between Sentiment and Stock Return"
      ]
    },
    {
      "cell_type": "code",
      "execution_count": null,
      "id": "e1edb5d8",
      "metadata": {
        "id": "e1edb5d8"
      },
      "outputs": [],
      "source": [
        "# Aggregate news sentiment by date\n",
        "daily_sentiment = news_data.groupby('Date')['Sentiment'].mean().reset_index()\n",
        "\n",
        "# Merge with stock returns\n",
        "merged = pd.merge(goog_df_return, daily_sentiment, on='Date', how='inner')\n",
        "\n",
        "# Calculate correlation\n",
        "correlation = merged['Return'].corr(merged['Sentiment'])\n",
        "print(f'Pearson correlation between sentiment and stock return: {correlation:.4f}')\n",
        "merged"
      ]
    }
  ],
  "metadata": {
    "colab": {
      "provenance": []
    },
    "language_info": {
      "name": "python"
    },
    "kernelspec": {
      "name": "python3",
      "display_name": "Python 3"
    }
  },
  "nbformat": 4,
  "nbformat_minor": 5
}